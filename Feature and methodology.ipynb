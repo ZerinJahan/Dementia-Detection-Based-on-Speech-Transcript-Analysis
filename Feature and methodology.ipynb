{
  "nbformat": 4,
  "nbformat_minor": 0,
  "metadata": {
    "colab": {
      "provenance": [],
      "gpuType": "T4"
    },
    "kernelspec": {
      "name": "python3",
      "display_name": "Python 3"
    },
    "language_info": {
      "name": "python"
    },
    "accelerator": "GPU"
  },
  "cells": [
    {
      "cell_type": "code",
      "execution_count": 1,
      "metadata": {
        "colab": {
          "base_uri": "https://localhost:8080/"
        },
        "id": "RDS2O79NSa21",
        "outputId": "7df5a18e-e857-4111-fec9-ca5219e445c2"
      },
      "outputs": [
        {
          "output_type": "stream",
          "name": "stdout",
          "text": [
            "Mounted at /content/drive/\n"
          ]
        }
      ],
      "source": [
        "from google.colab import drive\n",
        "drive.mount('/content/drive/')"
      ]
    },
    {
      "cell_type": "code",
      "source": [],
      "metadata": {
        "id": "hLQMYogl7Gnh"
      },
      "execution_count": null,
      "outputs": []
    },
    {
      "cell_type": "code",
      "source": [],
      "metadata": {
        "id": "W1brnGI47Gqo"
      },
      "execution_count": null,
      "outputs": []
    },
    {
      "cell_type": "code",
      "source": [],
      "metadata": {
        "id": "QXdC47qLIcH8"
      },
      "execution_count": null,
      "outputs": []
    },
    {
      "cell_type": "code",
      "source": [],
      "metadata": {
        "id": "50eZoB0VIcND"
      },
      "execution_count": null,
      "outputs": []
    },
    {
      "cell_type": "code",
      "source": [
        "#combination of ALL the features"
      ],
      "metadata": {
        "id": "Po7OY3HbIcQG"
      },
      "execution_count": null,
      "outputs": []
    },
    {
      "cell_type": "code",
      "source": [
        "import pandas as pd\n",
        "import numpy as np\n",
        "import spacy\n",
        "from gensim.models import Word2Vec\n",
        "from sklearn.model_selection import train_test_split\n",
        "from sklearn.ensemble import RandomForestClassifier\n",
        "from sklearn.metrics import accuracy_score, classification_report, confusion_matrix, roc_curve, auc\n",
        "import seaborn as sns\n",
        "import matplotlib.pyplot as plt\n",
        "import re\n",
        "import string\n",
        "from nltk.tokenize import word_tokenize\n",
        "from nltk.corpus import stopwords\n",
        "from nltk.stem import PorterStemmer\n",
        "import nltk\n",
        "import tensorflow as tf\n",
        "import tensorflow_hub as hub\n",
        "from sklearn.feature_extraction.text import TfidfVectorizer\n",
        "\n",
        "\n",
        "from sklearn.preprocessing import LabelEncoder\n",
        "from sklearn.feature_extraction.text import CountVectorizer"
      ],
      "metadata": {
        "id": "9N4sqp_FIcTM"
      },
      "execution_count": null,
      "outputs": []
    },
    {
      "cell_type": "code",
      "source": [
        "nltk.download('punkt')\n",
        "nltk.download('stopwords')"
      ],
      "metadata": {
        "colab": {
          "base_uri": "https://localhost:8080/"
        },
        "id": "R46FAyFwIcWE",
        "outputId": "d359c700-3e78-4bb3-fb79-c8ae59f42cc8"
      },
      "execution_count": null,
      "outputs": [
        {
          "output_type": "stream",
          "name": "stderr",
          "text": [
            "[nltk_data] Downloading package punkt to /root/nltk_data...\n",
            "[nltk_data]   Unzipping tokenizers/punkt.zip.\n",
            "[nltk_data] Downloading package stopwords to /root/nltk_data...\n",
            "[nltk_data]   Unzipping corpora/stopwords.zip.\n"
          ]
        },
        {
          "output_type": "execute_result",
          "data": {
            "text/plain": [
              "True"
            ]
          },
          "metadata": {},
          "execution_count": 5
        }
      ]
    },
    {
      "cell_type": "code",
      "source": [
        "# Further data Cleaning\n",
        "def preprocess_text(text):\n",
        "    # Convert to lowercase\n",
        "    text = text.lower()\n",
        "    # Remove special characters and digits\n",
        "    text = re.sub(r'[^\\w\\s]', '', text)\n",
        "    text = re.sub(r'\\d+', '', text)\n",
        "    # Tokenize words\n",
        "    words = word_tokenize(text)\n",
        "    # Remove stopwords\n",
        "    stop_words = set(stopwords.words('english'))\n",
        "    words = [word for word in words if word not in stop_words]\n",
        "    # Stem words\n",
        "    stemmer = PorterStemmer()\n",
        "    words = [stemmer.stem(word) for word in words]\n",
        "    return words"
      ],
      "metadata": {
        "id": "51QhObK-IcZW"
      },
      "execution_count": null,
      "outputs": []
    },
    {
      "cell_type": "code",
      "source": [
        "# Load CSV dataset\n",
        "data = pd.read_csv('/content/drive/MyDrive/dementia_data/5_combined_new.csv')\n",
        "\n",
        "# Preprocess text (remove punctuation, lowercase, tokenize, etc.)\n",
        "data[\"preprocessed_text\"] = data[\"Sentence\"].apply(preprocess_text)"
      ],
      "metadata": {
        "id": "PYR94BdBIcc9"
      },
      "execution_count": null,
      "outputs": []
    },
    {
      "cell_type": "code",
      "source": [
        "data.head()"
      ],
      "metadata": {
        "colab": {
          "base_uri": "https://localhost:8080/",
          "height": 206
        },
        "id": "G21PwiUEoQeg",
        "outputId": "306d5b3a-0979-4635-bdd5-c83a01786aca"
      },
      "execution_count": null,
      "outputs": [
        {
          "output_type": "execute_result",
          "data": {
            "text/plain": [
              "                                            Sentence  Label  \\\n",
              "0                                     dogs horses um      0   \n",
              "1                                    yeah yeah bread      0   \n",
              "2            uh flower fish xxx four did i say findq      0   \n",
              "3  well most anything anything to eat okay uh mel...      1   \n",
              "4                           uh hm food fire uh fence      0   \n",
              "\n",
              "                                   preprocessed_text  \n",
              "0                                    [dog, hors, um]  \n",
              "1                                [yeah, yeah, bread]  \n",
              "2          [uh, flower, fish, xxx, four, say, findq]  \n",
              "3  [well, anyth, anyth, eat, okay, uh, melani, uh...  \n",
              "4                     [uh, hm, food, fire, uh, fenc]  "
            ],
            "text/html": [
              "\n",
              "  <div id=\"df-15c816a4-c06e-4ec4-a4d7-63f9701a1f0d\" class=\"colab-df-container\">\n",
              "    <div>\n",
              "<style scoped>\n",
              "    .dataframe tbody tr th:only-of-type {\n",
              "        vertical-align: middle;\n",
              "    }\n",
              "\n",
              "    .dataframe tbody tr th {\n",
              "        vertical-align: top;\n",
              "    }\n",
              "\n",
              "    .dataframe thead th {\n",
              "        text-align: right;\n",
              "    }\n",
              "</style>\n",
              "<table border=\"1\" class=\"dataframe\">\n",
              "  <thead>\n",
              "    <tr style=\"text-align: right;\">\n",
              "      <th></th>\n",
              "      <th>Sentence</th>\n",
              "      <th>Label</th>\n",
              "      <th>preprocessed_text</th>\n",
              "    </tr>\n",
              "  </thead>\n",
              "  <tbody>\n",
              "    <tr>\n",
              "      <th>0</th>\n",
              "      <td>dogs horses um</td>\n",
              "      <td>0</td>\n",
              "      <td>[dog, hors, um]</td>\n",
              "    </tr>\n",
              "    <tr>\n",
              "      <th>1</th>\n",
              "      <td>yeah yeah bread</td>\n",
              "      <td>0</td>\n",
              "      <td>[yeah, yeah, bread]</td>\n",
              "    </tr>\n",
              "    <tr>\n",
              "      <th>2</th>\n",
              "      <td>uh flower fish xxx four did i say findq</td>\n",
              "      <td>0</td>\n",
              "      <td>[uh, flower, fish, xxx, four, say, findq]</td>\n",
              "    </tr>\n",
              "    <tr>\n",
              "      <th>3</th>\n",
              "      <td>well most anything anything to eat okay uh mel...</td>\n",
              "      <td>1</td>\n",
              "      <td>[well, anyth, anyth, eat, okay, uh, melani, uh...</td>\n",
              "    </tr>\n",
              "    <tr>\n",
              "      <th>4</th>\n",
              "      <td>uh hm food fire uh fence</td>\n",
              "      <td>0</td>\n",
              "      <td>[uh, hm, food, fire, uh, fenc]</td>\n",
              "    </tr>\n",
              "  </tbody>\n",
              "</table>\n",
              "</div>\n",
              "    <div class=\"colab-df-buttons\">\n",
              "\n",
              "  <div class=\"colab-df-container\">\n",
              "    <button class=\"colab-df-convert\" onclick=\"convertToInteractive('df-15c816a4-c06e-4ec4-a4d7-63f9701a1f0d')\"\n",
              "            title=\"Convert this dataframe to an interactive table.\"\n",
              "            style=\"display:none;\">\n",
              "\n",
              "  <svg xmlns=\"http://www.w3.org/2000/svg\" height=\"24px\" viewBox=\"0 -960 960 960\">\n",
              "    <path d=\"M120-120v-720h720v720H120Zm60-500h600v-160H180v160Zm220 220h160v-160H400v160Zm0 220h160v-160H400v160ZM180-400h160v-160H180v160Zm440 0h160v-160H620v160ZM180-180h160v-160H180v160Zm440 0h160v-160H620v160Z\"/>\n",
              "  </svg>\n",
              "    </button>\n",
              "\n",
              "  <style>\n",
              "    .colab-df-container {\n",
              "      display:flex;\n",
              "      gap: 12px;\n",
              "    }\n",
              "\n",
              "    .colab-df-convert {\n",
              "      background-color: #E8F0FE;\n",
              "      border: none;\n",
              "      border-radius: 50%;\n",
              "      cursor: pointer;\n",
              "      display: none;\n",
              "      fill: #1967D2;\n",
              "      height: 32px;\n",
              "      padding: 0 0 0 0;\n",
              "      width: 32px;\n",
              "    }\n",
              "\n",
              "    .colab-df-convert:hover {\n",
              "      background-color: #E2EBFA;\n",
              "      box-shadow: 0px 1px 2px rgba(60, 64, 67, 0.3), 0px 1px 3px 1px rgba(60, 64, 67, 0.15);\n",
              "      fill: #174EA6;\n",
              "    }\n",
              "\n",
              "    .colab-df-buttons div {\n",
              "      margin-bottom: 4px;\n",
              "    }\n",
              "\n",
              "    [theme=dark] .colab-df-convert {\n",
              "      background-color: #3B4455;\n",
              "      fill: #D2E3FC;\n",
              "    }\n",
              "\n",
              "    [theme=dark] .colab-df-convert:hover {\n",
              "      background-color: #434B5C;\n",
              "      box-shadow: 0px 1px 3px 1px rgba(0, 0, 0, 0.15);\n",
              "      filter: drop-shadow(0px 1px 2px rgba(0, 0, 0, 0.3));\n",
              "      fill: #FFFFFF;\n",
              "    }\n",
              "  </style>\n",
              "\n",
              "    <script>\n",
              "      const buttonEl =\n",
              "        document.querySelector('#df-15c816a4-c06e-4ec4-a4d7-63f9701a1f0d button.colab-df-convert');\n",
              "      buttonEl.style.display =\n",
              "        google.colab.kernel.accessAllowed ? 'block' : 'none';\n",
              "\n",
              "      async function convertToInteractive(key) {\n",
              "        const element = document.querySelector('#df-15c816a4-c06e-4ec4-a4d7-63f9701a1f0d');\n",
              "        const dataTable =\n",
              "          await google.colab.kernel.invokeFunction('convertToInteractive',\n",
              "                                                    [key], {});\n",
              "        if (!dataTable) return;\n",
              "\n",
              "        const docLinkHtml = 'Like what you see? Visit the ' +\n",
              "          '<a target=\"_blank\" href=https://colab.research.google.com/notebooks/data_table.ipynb>data table notebook</a>'\n",
              "          + ' to learn more about interactive tables.';\n",
              "        element.innerHTML = '';\n",
              "        dataTable['output_type'] = 'display_data';\n",
              "        await google.colab.output.renderOutput(dataTable, element);\n",
              "        const docLink = document.createElement('div');\n",
              "        docLink.innerHTML = docLinkHtml;\n",
              "        element.appendChild(docLink);\n",
              "      }\n",
              "    </script>\n",
              "  </div>\n",
              "\n",
              "\n",
              "<div id=\"df-c5440d0d-84e7-481b-bd2d-8885e8a8e8d7\">\n",
              "  <button class=\"colab-df-quickchart\" onclick=\"quickchart('df-c5440d0d-84e7-481b-bd2d-8885e8a8e8d7')\"\n",
              "            title=\"Suggest charts.\"\n",
              "            style=\"display:none;\">\n",
              "\n",
              "<svg xmlns=\"http://www.w3.org/2000/svg\" height=\"24px\"viewBox=\"0 0 24 24\"\n",
              "     width=\"24px\">\n",
              "    <g>\n",
              "        <path d=\"M19 3H5c-1.1 0-2 .9-2 2v14c0 1.1.9 2 2 2h14c1.1 0 2-.9 2-2V5c0-1.1-.9-2-2-2zM9 17H7v-7h2v7zm4 0h-2V7h2v10zm4 0h-2v-4h2v4z\"/>\n",
              "    </g>\n",
              "</svg>\n",
              "  </button>\n",
              "\n",
              "<style>\n",
              "  .colab-df-quickchart {\n",
              "      --bg-color: #E8F0FE;\n",
              "      --fill-color: #1967D2;\n",
              "      --hover-bg-color: #E2EBFA;\n",
              "      --hover-fill-color: #174EA6;\n",
              "      --disabled-fill-color: #AAA;\n",
              "      --disabled-bg-color: #DDD;\n",
              "  }\n",
              "\n",
              "  [theme=dark] .colab-df-quickchart {\n",
              "      --bg-color: #3B4455;\n",
              "      --fill-color: #D2E3FC;\n",
              "      --hover-bg-color: #434B5C;\n",
              "      --hover-fill-color: #FFFFFF;\n",
              "      --disabled-bg-color: #3B4455;\n",
              "      --disabled-fill-color: #666;\n",
              "  }\n",
              "\n",
              "  .colab-df-quickchart {\n",
              "    background-color: var(--bg-color);\n",
              "    border: none;\n",
              "    border-radius: 50%;\n",
              "    cursor: pointer;\n",
              "    display: none;\n",
              "    fill: var(--fill-color);\n",
              "    height: 32px;\n",
              "    padding: 0;\n",
              "    width: 32px;\n",
              "  }\n",
              "\n",
              "  .colab-df-quickchart:hover {\n",
              "    background-color: var(--hover-bg-color);\n",
              "    box-shadow: 0 1px 2px rgba(60, 64, 67, 0.3), 0 1px 3px 1px rgba(60, 64, 67, 0.15);\n",
              "    fill: var(--button-hover-fill-color);\n",
              "  }\n",
              "\n",
              "  .colab-df-quickchart-complete:disabled,\n",
              "  .colab-df-quickchart-complete:disabled:hover {\n",
              "    background-color: var(--disabled-bg-color);\n",
              "    fill: var(--disabled-fill-color);\n",
              "    box-shadow: none;\n",
              "  }\n",
              "\n",
              "  .colab-df-spinner {\n",
              "    border: 2px solid var(--fill-color);\n",
              "    border-color: transparent;\n",
              "    border-bottom-color: var(--fill-color);\n",
              "    animation:\n",
              "      spin 1s steps(1) infinite;\n",
              "  }\n",
              "\n",
              "  @keyframes spin {\n",
              "    0% {\n",
              "      border-color: transparent;\n",
              "      border-bottom-color: var(--fill-color);\n",
              "      border-left-color: var(--fill-color);\n",
              "    }\n",
              "    20% {\n",
              "      border-color: transparent;\n",
              "      border-left-color: var(--fill-color);\n",
              "      border-top-color: var(--fill-color);\n",
              "    }\n",
              "    30% {\n",
              "      border-color: transparent;\n",
              "      border-left-color: var(--fill-color);\n",
              "      border-top-color: var(--fill-color);\n",
              "      border-right-color: var(--fill-color);\n",
              "    }\n",
              "    40% {\n",
              "      border-color: transparent;\n",
              "      border-right-color: var(--fill-color);\n",
              "      border-top-color: var(--fill-color);\n",
              "    }\n",
              "    60% {\n",
              "      border-color: transparent;\n",
              "      border-right-color: var(--fill-color);\n",
              "    }\n",
              "    80% {\n",
              "      border-color: transparent;\n",
              "      border-right-color: var(--fill-color);\n",
              "      border-bottom-color: var(--fill-color);\n",
              "    }\n",
              "    90% {\n",
              "      border-color: transparent;\n",
              "      border-bottom-color: var(--fill-color);\n",
              "    }\n",
              "  }\n",
              "</style>\n",
              "\n",
              "  <script>\n",
              "    async function quickchart(key) {\n",
              "      const quickchartButtonEl =\n",
              "        document.querySelector('#' + key + ' button');\n",
              "      quickchartButtonEl.disabled = true;  // To prevent multiple clicks.\n",
              "      quickchartButtonEl.classList.add('colab-df-spinner');\n",
              "      try {\n",
              "        const charts = await google.colab.kernel.invokeFunction(\n",
              "            'suggestCharts', [key], {});\n",
              "      } catch (error) {\n",
              "        console.error('Error during call to suggestCharts:', error);\n",
              "      }\n",
              "      quickchartButtonEl.classList.remove('colab-df-spinner');\n",
              "      quickchartButtonEl.classList.add('colab-df-quickchart-complete');\n",
              "    }\n",
              "    (() => {\n",
              "      let quickchartButtonEl =\n",
              "        document.querySelector('#df-c5440d0d-84e7-481b-bd2d-8885e8a8e8d7 button');\n",
              "      quickchartButtonEl.style.display =\n",
              "        google.colab.kernel.accessAllowed ? 'block' : 'none';\n",
              "    })();\n",
              "  </script>\n",
              "</div>\n",
              "    </div>\n",
              "  </div>\n"
            ]
          },
          "metadata": {},
          "execution_count": 6
        }
      ]
    },
    {
      "cell_type": "code",
      "source": [
        "data.head()"
      ],
      "metadata": {
        "colab": {
          "base_uri": "https://localhost:8080/",
          "height": 206
        },
        "id": "nUrYj_9zWiLN",
        "outputId": "f488c364-7844-45d6-f91c-912eb536dc99"
      },
      "execution_count": null,
      "outputs": [
        {
          "output_type": "execute_result",
          "data": {
            "text/plain": [
              "                                            Sentence  Label  \\\n",
              "0                                     dogs horses um      0   \n",
              "1                                    yeah yeah bread      0   \n",
              "2            uh flower fish xxx four did i say findq      0   \n",
              "3  well most anything anything to eat okay uh mel...      1   \n",
              "4                           uh hm food fire uh fence      0   \n",
              "\n",
              "                                   preprocessed_text  \\\n",
              "0                                    [dog, hors, um]   \n",
              "1                                [yeah, yeah, bread]   \n",
              "2          [uh, flower, fish, xxx, four, say, findq]   \n",
              "3  [well, anyth, anyth, eat, okay, uh, melani, uh...   \n",
              "4                     [uh, hm, food, fire, uh, fenc]   \n",
              "\n",
              "                                      tokenized_text  \n",
              "0                                 [dogs, horses, um]  \n",
              "1                                [yeah, yeah, bread]  \n",
              "2  [uh, flower, fish, xxx, four, did, i, say, findq]  \n",
              "3  [well, most, anything, anything, to, eat, okay...  \n",
              "4                    [uh, hm, food, fire, uh, fence]  "
            ],
            "text/html": [
              "\n",
              "  <div id=\"df-a7f543fa-6d45-422d-bb3d-bb324c38e0ba\" class=\"colab-df-container\">\n",
              "    <div>\n",
              "<style scoped>\n",
              "    .dataframe tbody tr th:only-of-type {\n",
              "        vertical-align: middle;\n",
              "    }\n",
              "\n",
              "    .dataframe tbody tr th {\n",
              "        vertical-align: top;\n",
              "    }\n",
              "\n",
              "    .dataframe thead th {\n",
              "        text-align: right;\n",
              "    }\n",
              "</style>\n",
              "<table border=\"1\" class=\"dataframe\">\n",
              "  <thead>\n",
              "    <tr style=\"text-align: right;\">\n",
              "      <th></th>\n",
              "      <th>Sentence</th>\n",
              "      <th>Label</th>\n",
              "      <th>preprocessed_text</th>\n",
              "      <th>tokenized_text</th>\n",
              "    </tr>\n",
              "  </thead>\n",
              "  <tbody>\n",
              "    <tr>\n",
              "      <th>0</th>\n",
              "      <td>dogs horses um</td>\n",
              "      <td>0</td>\n",
              "      <td>[dog, hors, um]</td>\n",
              "      <td>[dogs, horses, um]</td>\n",
              "    </tr>\n",
              "    <tr>\n",
              "      <th>1</th>\n",
              "      <td>yeah yeah bread</td>\n",
              "      <td>0</td>\n",
              "      <td>[yeah, yeah, bread]</td>\n",
              "      <td>[yeah, yeah, bread]</td>\n",
              "    </tr>\n",
              "    <tr>\n",
              "      <th>2</th>\n",
              "      <td>uh flower fish xxx four did i say findq</td>\n",
              "      <td>0</td>\n",
              "      <td>[uh, flower, fish, xxx, four, say, findq]</td>\n",
              "      <td>[uh, flower, fish, xxx, four, did, i, say, findq]</td>\n",
              "    </tr>\n",
              "    <tr>\n",
              "      <th>3</th>\n",
              "      <td>well most anything anything to eat okay uh mel...</td>\n",
              "      <td>1</td>\n",
              "      <td>[well, anyth, anyth, eat, okay, uh, melani, uh...</td>\n",
              "      <td>[well, most, anything, anything, to, eat, okay...</td>\n",
              "    </tr>\n",
              "    <tr>\n",
              "      <th>4</th>\n",
              "      <td>uh hm food fire uh fence</td>\n",
              "      <td>0</td>\n",
              "      <td>[uh, hm, food, fire, uh, fenc]</td>\n",
              "      <td>[uh, hm, food, fire, uh, fence]</td>\n",
              "    </tr>\n",
              "  </tbody>\n",
              "</table>\n",
              "</div>\n",
              "    <div class=\"colab-df-buttons\">\n",
              "\n",
              "  <div class=\"colab-df-container\">\n",
              "    <button class=\"colab-df-convert\" onclick=\"convertToInteractive('df-a7f543fa-6d45-422d-bb3d-bb324c38e0ba')\"\n",
              "            title=\"Convert this dataframe to an interactive table.\"\n",
              "            style=\"display:none;\">\n",
              "\n",
              "  <svg xmlns=\"http://www.w3.org/2000/svg\" height=\"24px\" viewBox=\"0 -960 960 960\">\n",
              "    <path d=\"M120-120v-720h720v720H120Zm60-500h600v-160H180v160Zm220 220h160v-160H400v160Zm0 220h160v-160H400v160ZM180-400h160v-160H180v160Zm440 0h160v-160H620v160ZM180-180h160v-160H180v160Zm440 0h160v-160H620v160Z\"/>\n",
              "  </svg>\n",
              "    </button>\n",
              "\n",
              "  <style>\n",
              "    .colab-df-container {\n",
              "      display:flex;\n",
              "      gap: 12px;\n",
              "    }\n",
              "\n",
              "    .colab-df-convert {\n",
              "      background-color: #E8F0FE;\n",
              "      border: none;\n",
              "      border-radius: 50%;\n",
              "      cursor: pointer;\n",
              "      display: none;\n",
              "      fill: #1967D2;\n",
              "      height: 32px;\n",
              "      padding: 0 0 0 0;\n",
              "      width: 32px;\n",
              "    }\n",
              "\n",
              "    .colab-df-convert:hover {\n",
              "      background-color: #E2EBFA;\n",
              "      box-shadow: 0px 1px 2px rgba(60, 64, 67, 0.3), 0px 1px 3px 1px rgba(60, 64, 67, 0.15);\n",
              "      fill: #174EA6;\n",
              "    }\n",
              "\n",
              "    .colab-df-buttons div {\n",
              "      margin-bottom: 4px;\n",
              "    }\n",
              "\n",
              "    [theme=dark] .colab-df-convert {\n",
              "      background-color: #3B4455;\n",
              "      fill: #D2E3FC;\n",
              "    }\n",
              "\n",
              "    [theme=dark] .colab-df-convert:hover {\n",
              "      background-color: #434B5C;\n",
              "      box-shadow: 0px 1px 3px 1px rgba(0, 0, 0, 0.15);\n",
              "      filter: drop-shadow(0px 1px 2px rgba(0, 0, 0, 0.3));\n",
              "      fill: #FFFFFF;\n",
              "    }\n",
              "  </style>\n",
              "\n",
              "    <script>\n",
              "      const buttonEl =\n",
              "        document.querySelector('#df-a7f543fa-6d45-422d-bb3d-bb324c38e0ba button.colab-df-convert');\n",
              "      buttonEl.style.display =\n",
              "        google.colab.kernel.accessAllowed ? 'block' : 'none';\n",
              "\n",
              "      async function convertToInteractive(key) {\n",
              "        const element = document.querySelector('#df-a7f543fa-6d45-422d-bb3d-bb324c38e0ba');\n",
              "        const dataTable =\n",
              "          await google.colab.kernel.invokeFunction('convertToInteractive',\n",
              "                                                    [key], {});\n",
              "        if (!dataTable) return;\n",
              "\n",
              "        const docLinkHtml = 'Like what you see? Visit the ' +\n",
              "          '<a target=\"_blank\" href=https://colab.research.google.com/notebooks/data_table.ipynb>data table notebook</a>'\n",
              "          + ' to learn more about interactive tables.';\n",
              "        element.innerHTML = '';\n",
              "        dataTable['output_type'] = 'display_data';\n",
              "        await google.colab.output.renderOutput(dataTable, element);\n",
              "        const docLink = document.createElement('div');\n",
              "        docLink.innerHTML = docLinkHtml;\n",
              "        element.appendChild(docLink);\n",
              "      }\n",
              "    </script>\n",
              "  </div>\n",
              "\n",
              "\n",
              "<div id=\"df-ec1d6d78-38aa-4e1b-87b2-047fd1a3a106\">\n",
              "  <button class=\"colab-df-quickchart\" onclick=\"quickchart('df-ec1d6d78-38aa-4e1b-87b2-047fd1a3a106')\"\n",
              "            title=\"Suggest charts.\"\n",
              "            style=\"display:none;\">\n",
              "\n",
              "<svg xmlns=\"http://www.w3.org/2000/svg\" height=\"24px\"viewBox=\"0 0 24 24\"\n",
              "     width=\"24px\">\n",
              "    <g>\n",
              "        <path d=\"M19 3H5c-1.1 0-2 .9-2 2v14c0 1.1.9 2 2 2h14c1.1 0 2-.9 2-2V5c0-1.1-.9-2-2-2zM9 17H7v-7h2v7zm4 0h-2V7h2v10zm4 0h-2v-4h2v4z\"/>\n",
              "    </g>\n",
              "</svg>\n",
              "  </button>\n",
              "\n",
              "<style>\n",
              "  .colab-df-quickchart {\n",
              "      --bg-color: #E8F0FE;\n",
              "      --fill-color: #1967D2;\n",
              "      --hover-bg-color: #E2EBFA;\n",
              "      --hover-fill-color: #174EA6;\n",
              "      --disabled-fill-color: #AAA;\n",
              "      --disabled-bg-color: #DDD;\n",
              "  }\n",
              "\n",
              "  [theme=dark] .colab-df-quickchart {\n",
              "      --bg-color: #3B4455;\n",
              "      --fill-color: #D2E3FC;\n",
              "      --hover-bg-color: #434B5C;\n",
              "      --hover-fill-color: #FFFFFF;\n",
              "      --disabled-bg-color: #3B4455;\n",
              "      --disabled-fill-color: #666;\n",
              "  }\n",
              "\n",
              "  .colab-df-quickchart {\n",
              "    background-color: var(--bg-color);\n",
              "    border: none;\n",
              "    border-radius: 50%;\n",
              "    cursor: pointer;\n",
              "    display: none;\n",
              "    fill: var(--fill-color);\n",
              "    height: 32px;\n",
              "    padding: 0;\n",
              "    width: 32px;\n",
              "  }\n",
              "\n",
              "  .colab-df-quickchart:hover {\n",
              "    background-color: var(--hover-bg-color);\n",
              "    box-shadow: 0 1px 2px rgba(60, 64, 67, 0.3), 0 1px 3px 1px rgba(60, 64, 67, 0.15);\n",
              "    fill: var(--button-hover-fill-color);\n",
              "  }\n",
              "\n",
              "  .colab-df-quickchart-complete:disabled,\n",
              "  .colab-df-quickchart-complete:disabled:hover {\n",
              "    background-color: var(--disabled-bg-color);\n",
              "    fill: var(--disabled-fill-color);\n",
              "    box-shadow: none;\n",
              "  }\n",
              "\n",
              "  .colab-df-spinner {\n",
              "    border: 2px solid var(--fill-color);\n",
              "    border-color: transparent;\n",
              "    border-bottom-color: var(--fill-color);\n",
              "    animation:\n",
              "      spin 1s steps(1) infinite;\n",
              "  }\n",
              "\n",
              "  @keyframes spin {\n",
              "    0% {\n",
              "      border-color: transparent;\n",
              "      border-bottom-color: var(--fill-color);\n",
              "      border-left-color: var(--fill-color);\n",
              "    }\n",
              "    20% {\n",
              "      border-color: transparent;\n",
              "      border-left-color: var(--fill-color);\n",
              "      border-top-color: var(--fill-color);\n",
              "    }\n",
              "    30% {\n",
              "      border-color: transparent;\n",
              "      border-left-color: var(--fill-color);\n",
              "      border-top-color: var(--fill-color);\n",
              "      border-right-color: var(--fill-color);\n",
              "    }\n",
              "    40% {\n",
              "      border-color: transparent;\n",
              "      border-right-color: var(--fill-color);\n",
              "      border-top-color: var(--fill-color);\n",
              "    }\n",
              "    60% {\n",
              "      border-color: transparent;\n",
              "      border-right-color: var(--fill-color);\n",
              "    }\n",
              "    80% {\n",
              "      border-color: transparent;\n",
              "      border-right-color: var(--fill-color);\n",
              "      border-bottom-color: var(--fill-color);\n",
              "    }\n",
              "    90% {\n",
              "      border-color: transparent;\n",
              "      border-bottom-color: var(--fill-color);\n",
              "    }\n",
              "  }\n",
              "</style>\n",
              "\n",
              "  <script>\n",
              "    async function quickchart(key) {\n",
              "      const quickchartButtonEl =\n",
              "        document.querySelector('#' + key + ' button');\n",
              "      quickchartButtonEl.disabled = true;  // To prevent multiple clicks.\n",
              "      quickchartButtonEl.classList.add('colab-df-spinner');\n",
              "      try {\n",
              "        const charts = await google.colab.kernel.invokeFunction(\n",
              "            'suggestCharts', [key], {});\n",
              "      } catch (error) {\n",
              "        console.error('Error during call to suggestCharts:', error);\n",
              "      }\n",
              "      quickchartButtonEl.classList.remove('colab-df-spinner');\n",
              "      quickchartButtonEl.classList.add('colab-df-quickchart-complete');\n",
              "    }\n",
              "    (() => {\n",
              "      let quickchartButtonEl =\n",
              "        document.querySelector('#df-ec1d6d78-38aa-4e1b-87b2-047fd1a3a106 button');\n",
              "      quickchartButtonEl.style.display =\n",
              "        google.colab.kernel.accessAllowed ? 'block' : 'none';\n",
              "    })();\n",
              "  </script>\n",
              "</div>\n",
              "    </div>\n",
              "  </div>\n"
            ]
          },
          "metadata": {},
          "execution_count": 17
        }
      ]
    },
    {
      "cell_type": "code",
      "source": [
        "#Word Embeddings\n",
        "\n",
        "# Train Word2Vec model\n",
        "word2vec_model = Word2Vec(sentences=data[\"preprocessed_text\"], vector_size=100, window=5, min_count=1, sg=0)\n",
        "# Assuming \"preprocessed_text\" column contains lists of tokens\n",
        "X_word_embeddings = []\n",
        "# Generate word vectors for speech segments\n",
        "speech_vectors = []\n",
        "for segment_text in data[\"preprocessed_text\"]:\n",
        "    word_vectors = [word2vec_model.wv[word] for word in segment_text if word in word2vec_model.wv]\n",
        "    avg_vector = sum(word_vectors) / len(word_vectors) if word_vectors else [0.0] * 100\n",
        "    speech_vectors.append(avg_vector)\n",
        "\n",
        "# Obtain word embeddings and aggregate sentence embeddings\n",
        "for tokens in data[\"preprocessed_text\"]:\n",
        "    embeddings = [word2vec_model.wv[word] for word in tokens if word in word2vec_model.wv]\n",
        "    if embeddings:\n",
        "        sentence_embedding = sum(embeddings) / len(embeddings)\n",
        "    else:\n",
        "        sentence_embedding = [0.0] * word2vec_model.vector_size\n",
        "    X_word_embeddings.append(sentence_embedding)\n",
        "\n",
        "# Convert the list of embeddings to a NumPy array\n",
        "X_word_embeddings = np.array(X_word_embeddings)"
      ],
      "metadata": {
        "id": "Xv4wOEjqIchC"
      },
      "execution_count": null,
      "outputs": []
    },
    {
      "cell_type": "code",
      "source": [
        "#Sentence Embeddings\n",
        "\n",
        "# Load Universal Sentence Encoder model\n",
        "embed = hub.load(\"https://tfhub.dev/google/universal-sentence-encoder/4\")\n",
        "\n",
        "# Encode sentences to obtain sentence embeddings\n",
        "sentence_embeddings = embed(data[\"Sentence\"])\n",
        "\n",
        "X_sentence_embeddings = sentence_embeddings.numpy()"
      ],
      "metadata": {
        "id": "YAAIRGFVIcjv"
      },
      "execution_count": null,
      "outputs": []
    },
    {
      "cell_type": "code",
      "source": [
        "# TF-IDF Vectorization with N-grams\n",
        "tfidf_vectorizer = TfidfVectorizer(max_features=100, ngram_range=(1, 2))\n",
        "X_tfidf = tfidf_vectorizer.fit_transform(data[\"Sentence\"]).toarray()"
      ],
      "metadata": {
        "id": "mwKPcuI_IcmI"
      },
      "execution_count": null,
      "outputs": []
    },
    {
      "cell_type": "code",
      "source": [
        "# Word2Vec Variants\n",
        "X_word2vec = []\n",
        "for tokens in data[\"Sentence\"]:\n",
        "    embeddings = [word2vec_model.wv[word] for word in tokens if word in word2vec_model.wv]\n",
        "    if embeddings:\n",
        "        sentence_embedding = sum(embeddings) / len(embeddings)\n",
        "    else:\n",
        "        sentence_embedding = [0.0] * word2vec_model.vector_size\n",
        "    X_word2vec.append(sentence_embedding)"
      ],
      "metadata": {
        "id": "D9N7j7B5lDnO"
      },
      "execution_count": null,
      "outputs": []
    },
    {
      "cell_type": "code",
      "source": [
        "# Load GloVe Embeddings (replace with your GloVe loading code)\n",
        "glove_embeddings = {}  # Dictionary to store GloVe embeddings\n",
        "glove_file_path = \"/content/drive/MyDrive/dementia_data/glove.6B.100d.txt\"  # Modify this path\n",
        "with open(glove_file_path, encoding=\"utf-8\") as f:\n",
        "    for line in f:\n",
        "        values = line.split()\n",
        "        word = values[0]\n",
        "        vector = np.asarray(values[1:], dtype=\"float32\")\n",
        "        glove_embeddings[word] = vector\n",
        "\n",
        "\n",
        "# Word Embeddings using GloVe\n",
        "X_glove = []\n",
        "for tokens in data[\"Sentence\"]:\n",
        "    embeddings = [glove_embeddings.get(word, np.zeros(100)) for word in tokens]\n",
        "    sentence_embedding = np.mean(embeddings, axis=0) if embeddings else np.zeros(100)\n",
        "    X_glove.append(sentence_embedding)"
      ],
      "metadata": {
        "id": "AHBHiZTHrXtJ"
      },
      "execution_count": null,
      "outputs": []
    },
    {
      "cell_type": "code",
      "source": [
        "# Word Frequency and Document Length\n",
        "word_frequency = [text.count(\"Label\") for text in data[\"Sentence\"]]  # Replace \"target_word\"\n",
        "doc_lengths = [len(text.split()) for text in data[\"Sentence\"]]\n",
        "X_word_freq_doc_len = np.column_stack((word_frequency, doc_lengths))"
      ],
      "metadata": {
        "id": "YHZQ2pH5lcZ3"
      },
      "execution_count": null,
      "outputs": []
    },
    {
      "cell_type": "code",
      "source": [
        "# Function to count hesitation words in a sentence\n",
        "def count_hesitation_words(text):\n",
        "    hesitation_count = len(re.findall(r'\\b(uh|um|uh-huh|um-hum|mhm|huh)\\b', text, flags=re.IGNORECASE))\n",
        "    return hesitation_count\n",
        "X_hesitation = [count_hesitation_words(sentence) for sentence in data[\"Sentence\"]]\n",
        "X_hesitation = np.array(X_hesitation).reshape(-1, 1)"
      ],
      "metadata": {
        "id": "-zcBOUEHuame"
      },
      "execution_count": null,
      "outputs": []
    },
    {
      "cell_type": "code",
      "source": [
        "#Functions for all linguistic features\n",
        "# Load spaCy model\n",
        "nlp = spacy.load(\"en_core_web_sm\")\n",
        "\n",
        "# Calculate Type Token Ratio (TTR) using preprocessed word lists\n",
        "data['ttr'] = data['Sentence'].apply(lambda x: len(set(x)) / len(x))\n",
        "\n",
        "vectorizer = CountVectorizer(tokenizer=lambda x: x, lowercase=False)\n",
        "X = vectorizer.fit_transform(data['Sentence'])\n",
        "total_words = X.sum(axis=1)\n",
        "unique_words = (X > 0).sum(axis=1)\n",
        "data['ttr'] = unique_words / total_words\n",
        "def calculate_prepositional_ratio(text):\n",
        "    doc = nlp(\" \".join(text))\n",
        "    total_words = len(doc)\n",
        "\n",
        "    if total_words == 0:\n",
        "        return 0.0\n",
        "\n",
        "    num_prepositions = sum(1 for token in doc if token.pos_ == \"ADP\")\n",
        "    prepositional_ratio = num_prepositions / total_words\n",
        "    return prepositional_ratio\n",
        "\n",
        "def calculate_verb_to_noun_ratio(text):\n",
        "    doc = nlp(\" \".join(text))\n",
        "    total_words = len(doc)\n",
        "\n",
        "    if total_words == 0:\n",
        "        return 0.0\n",
        "\n",
        "    num_verbs = sum(1 for token in doc if token.pos_ == \"VERB\")\n",
        "    num_nouns = sum(1 for token in doc if token.pos_ == \"NOUN\")\n",
        "\n",
        "    if num_nouns == 0:\n",
        "        return 0.0\n",
        "\n",
        "    verb_to_noun_ratio = num_verbs / num_nouns\n",
        "    return verb_to_noun_ratio\n",
        "\n",
        "def calculate_content_density(text):\n",
        "    doc = nlp(\" \".join(text))\n",
        "    total_words = len(doc)\n",
        "\n",
        "    if total_words == 0:\n",
        "        return 0.0\n",
        "\n",
        "    num_content_words = sum(1 for token in doc if token.pos_ in [\"NOUN\", \"VERB\", \"ADJ\", \"ADV\"])\n",
        "    content_density = num_content_words / total_words\n",
        "    return content_density\n",
        "\n",
        "data['prepositional_ratio'] = data['preprocessed_text'].apply(calculate_prepositional_ratio)\n",
        "data['verb_to_noun_ratio'] = data['preprocessed_text'].apply(calculate_verb_to_noun_ratio)\n",
        "data['content_density'] = data['preprocessed_text'].apply(calculate_content_density)\n",
        "\n",
        "\n",
        "# Calculate noun ratio and verb ratio\n",
        "def calculate_pos_ratios(text):\n",
        "    doc = nlp(\" \".join(text))  # Join the list of preprocessed words into a single string\n",
        "    total_words = len(doc)\n",
        "\n",
        "    if total_words == 0:\n",
        "        return 0.0, 0.0  # Return 0.0 for both ratios if there are no words\n",
        "\n",
        "    num_nouns = sum(1 for token in doc if token.pos_ == \"NOUN\")\n",
        "    num_verbs = sum(1 for token in doc if token.pos_ == \"VERB\")\n",
        "    noun_ratio = num_nouns / total_words\n",
        "    verb_ratio = num_verbs / total_words\n",
        "    return noun_ratio, verb_ratio\n",
        "\n",
        "data['noun_ratio'], data['verb_ratio'] = zip(*data['preprocessed_text'].apply(calculate_pos_ratios))\n",
        "\n",
        "# Combine the results into the DataFrame\n",
        "X_linguistic_features = data[['ttr', 'noun_ratio', 'verb_ratio', 'prepositional_ratio', 'content_density','verb_to_noun_ratio']].values\n"
      ],
      "metadata": {
        "id": "z55kh98rS5Fh",
        "colab": {
          "base_uri": "https://localhost:8080/"
        },
        "outputId": "c21610da-99f6-44a1-b3dd-36e8cc9f38d7"
      },
      "execution_count": null,
      "outputs": [
        {
          "output_type": "stream",
          "name": "stderr",
          "text": [
            "/usr/local/lib/python3.10/dist-packages/sklearn/feature_extraction/text.py:528: UserWarning: The parameter 'token_pattern' will not be used since 'tokenizer' is not None'\n",
            "  warnings.warn(\n"
          ]
        }
      ]
    },
    {
      "cell_type": "code",
      "source": [
        "# Combine features\n",
        "X_combined = np.concatenate((\n",
        "    X_word_embeddings,\n",
        "    X_sentence_embeddings,\n",
        "    X_tfidf,\n",
        "\n",
        "    #X_word2vec,\n",
        "    X_glove,\n",
        "    X_word_freq_doc_len,\n",
        "    X_hesitation,\n",
        "    X_linguistic_features\n",
        "), axis=1)"
      ],
      "metadata": {
        "id": "NxZk7Bdclcel"
      },
      "execution_count": null,
      "outputs": []
    },
    {
      "cell_type": "code",
      "source": [
        "X_combined"
      ],
      "metadata": {
        "colab": {
          "base_uri": "https://localhost:8080/"
        },
        "id": "FviNWPkzah2s",
        "outputId": "b23b986a-2c8e-4f45-b4f2-33d3b4a81ccf"
      },
      "execution_count": null,
      "outputs": [
        {
          "output_type": "execute_result",
          "data": {
            "text/plain": [
              "array([[-2.85462365e-02,  8.62896815e-02, -6.14838256e-03, ...,\n",
              "         0.00000000e+00,  3.33333333e-01,  0.00000000e+00],\n",
              "       [-7.86858648e-02,  2.64796913e-01,  7.13328016e-04, ...,\n",
              "         0.00000000e+00,  0.00000000e+00,  0.00000000e+00],\n",
              "       [-1.05983250e-01,  3.68172109e-01,  1.73534604e-03, ...,\n",
              "         0.00000000e+00,  5.38461538e-01,  6.25000000e-01],\n",
              "       ...,\n",
              "       [-7.65422806e-02,  2.73069412e-01,  5.98150713e-04, ...,\n",
              "         0.00000000e+00,  3.57142857e-01,  6.66666667e-01],\n",
              "       [-1.05933420e-01,  3.58440548e-01,  4.82002972e-03, ...,\n",
              "         0.00000000e+00,  6.66666667e-01,  0.00000000e+00],\n",
              "       [-6.36254326e-02,  2.22913250e-01, -8.53053352e-05, ...,\n",
              "         0.00000000e+00,  7.50000000e-01,  0.00000000e+00]])"
            ]
          },
          "metadata": {},
          "execution_count": 20
        }
      ]
    },
    {
      "cell_type": "code",
      "source": [
        "\n",
        "\n",
        "\n",
        "#to save x_combined if needed--------\n",
        "\n",
        "# Save the X_combined array to a DataFrame\n",
        "df_combined = pd.DataFrame(X_combined)\n",
        "\n",
        "# Define column names (you can adjust these as needed)\n",
        "column_names = [f'feature_{i}' for i in range(X_combined.shape[1])]\n",
        "df_combined.columns = column_names\n",
        "\n",
        "\n",
        "csv_filename = 'combined_features.csv'\n",
        "df_combined.to_csv(csv_filename, index=False)\n"
      ],
      "metadata": {
        "id": "y2hMnrSRnKqN"
      },
      "execution_count": null,
      "outputs": []
    },
    {
      "cell_type": "code",
      "source": [
        "#.......................................................................................................#"
      ],
      "metadata": {
        "id": "WqOMr92qlvS3"
      },
      "execution_count": null,
      "outputs": []
    },
    {
      "cell_type": "code",
      "source": [
        "\n",
        "\n",
        "# Split data into training and testing sets\n",
        "X_train, X_test, y_train, y_test = train_test_split( X_combined, data[\"Label\"], test_size=0.2, shuffle=True, random_state=42)"
      ],
      "metadata": {
        "id": "rISh0yHEIcoz"
      },
      "execution_count": null,
      "outputs": []
    },
    {
      "cell_type": "code",
      "source": [
        "from sklearn.model_selection import cross_val_score\n",
        "from sklearn.ensemble import RandomForestClassifier\n",
        "from sklearn.metrics import make_scorer, accuracy_score, classification_report\n",
        "\n",
        "# Create the Random Forest Classifier with desired parameters\n",
        "classifier = RandomForestClassifier(class_weight='balanced', random_state=42)\n",
        "\n",
        "# Perform cross-validation\n",
        "num_folds = 5  # Number of folds for cross-validation\n",
        "scoring = make_scorer(accuracy_score)  # Scoring metric\n",
        "\n",
        "# Use cross_val_score to compute cross-validated accuracy scores\n",
        "cv_scores = cross_val_score(classifier, X_train, y_train, cv=num_folds, scoring=scoring)\n",
        "\n",
        "# Print the accuracy scores for each fold\n",
        "print(\"Cross-validated accuracy scores:\", cv_scores)\n",
        "print(\"Mean accuracy:\", cv_scores.mean())\n",
        "\n",
        "# Fit the classifier on the entire training set\n",
        "classifier.fit(X_train, y_train)\n",
        "\n",
        "# Make predictions on the test data\n",
        "y_pred = classifier.predict(X_test)\n",
        "\n",
        "# Evaluate the model's performance\n",
        "accuracy = accuracy_score(y_test, y_pred)\n",
        "report = classification_report(y_test, y_pred)\n",
        "\n",
        "print(\"Accuracy:\", accuracy)\n",
        "print(\"Classification Report:\\n\", report)\n"
      ],
      "metadata": {
        "colab": {
          "base_uri": "https://localhost:8080/"
        },
        "id": "Ek-kMInlYekJ",
        "outputId": "905b139c-6d71-48e1-c00a-64dc0d644beb"
      },
      "execution_count": null,
      "outputs": [
        {
          "output_type": "stream",
          "name": "stdout",
          "text": [
            "Cross-validated accuracy scores: [0.97975709 0.97165992 0.99593496 0.9796748  0.9796748 ]\n",
            "Mean accuracy: 0.9813403113788223\n",
            "Accuracy: 0.9805825242718447\n",
            "Classification Report:\n",
            "               precision    recall  f1-score   support\n",
            "\n",
            "           0       0.99      0.97      0.98       194\n",
            "           1       0.96      0.99      0.97       115\n",
            "\n",
            "    accuracy                           0.98       309\n",
            "   macro avg       0.98      0.98      0.98       309\n",
            "weighted avg       0.98      0.98      0.98       309\n",
            "\n"
          ]
        }
      ]
    },
    {
      "cell_type": "code",
      "source": [
        "# Calculate the confusion matrix\n",
        "conf_matrix = confusion_matrix(y_test, y_pred)\n",
        "\n",
        "# Display the confusion matrix as a heatmap\n",
        "plt.figure(figsize=(4, 3))\n",
        "sns.heatmap(conf_matrix, annot=True, fmt=\"d\", cmap=\"Blues\",\n",
        "            xticklabels=classifier.classes_,\n",
        "            yticklabels=classifier.classes_)\n",
        "plt.xlabel(\"Predicted Labels\")\n",
        "plt.ylabel(\"True Labels\")\n",
        "plt.title(\"Confusion Matrix\")\n",
        "plt.show()"
      ],
      "metadata": {
        "colab": {
          "base_uri": "https://localhost:8080/",
          "height": 333
        },
        "id": "Bu6PFrTVKbrG",
        "outputId": "cdc15575-dba4-4c48-b271-c9a5062dadcf"
      },
      "execution_count": null,
      "outputs": [
        {
          "output_type": "display_data",
          "data": {
            "text/plain": [
              "<Figure size 400x300 with 2 Axes>"
            ],
            "image/png": "[encoded data removed]"
          },
          "metadata": {}
        }
      ]
    },
    {
      "cell_type": "code",
      "source": [
        "# Calculate the ROC curve\n",
        "fpr, tpr, thresholds = roc_curve(y_test, y_pred)\n",
        "\n",
        "# Calculate the Area Under the Curve (AUC)\n",
        "roc_auc = auc(fpr, tpr)\n",
        "\n",
        "# Plot the ROC curve\n",
        "plt.figure(figsize=(6, 4))\n",
        "plt.plot(fpr, tpr, color='darkorange', lw=2, label='ROC curve (area = %0.2f)' % roc_auc)\n",
        "plt.plot([0, 1], [0, 1], color='navy', lw=2, linestyle='--')\n",
        "plt.xlim([0.0, 1.0])\n",
        "plt.ylim([0.0, 1.05])\n",
        "plt.xlabel('False Positive Rate')\n",
        "plt.ylabel('True Positive Rate')\n",
        "plt.title('Receiver Operating Characteristic (ROC)')\n",
        "plt.legend(loc=\"lower right\")\n",
        "\n",
        "# Add grid lines\n",
        "plt.grid()\n",
        "\n",
        "\n",
        "\n",
        "plt.show()"
      ],
      "metadata": {
        "colab": {
          "base_uri": "https://localhost:8080/",
          "height": 410
        },
        "id": "8TvQbvoKKbt0",
        "outputId": "d4825865-519e-458f-da20-a1040bd96bcd"
      },
      "execution_count": null,
      "outputs": [
        {
          "output_type": "display_data",
          "data": {
            "text/plain": [
              "<Figure size 600x400 with 1 Axes>"
            ],
            "image/png": "[encoded data removed]"
          },
          "metadata": {}
        }
      ]
    },
    {
      "cell_type": "code",
      "source": [
        "#applying SVM with rdf kernel\n",
        "from sklearn.model_selection import cross_val_score\n",
        "from sklearn.metrics import make_scorer, accuracy_score, classification_report\n",
        "from sklearn.svm import SVC\n",
        "\n",
        "# Define a list of SVM classifiers with different kernels and parameters\n",
        "svm_classifiers = [\n",
        "\n",
        "    SVC(kernel='rbf', class_weight='balanced', random_state=42),\n",
        "\n",
        "]\n",
        "\n",
        "# Iterate over each SVM classifier and perform cross-validation\n",
        "for svm_classifier in svm_classifiers:\n",
        "    print(\"SVM Classifier (Kernel: {}):\".format(svm_classifier.kernel))\n",
        "\n",
        "    # Perform cross-validation\n",
        "    num_folds = 5  # Number of folds for cross-validation\n",
        "    scoring = make_scorer(accuracy_score)  # Scoring metric\n",
        "\n",
        "    # Use cross_val_score to compute cross-validated accuracy scores\n",
        "    cv_scores = cross_val_score(svm_classifier, X_train, y_train, cv=num_folds, scoring=scoring)\n",
        "\n",
        "    # Print the accuracy scores for each fold\n",
        "    print(\"Cross-validated accuracy scores:\", cv_scores)\n",
        "    print(\"Mean accuracy:\", cv_scores.mean())\n",
        "\n",
        "    # Fit the SVM classifier on the entire training set\n",
        "    svm_classifier.fit(X_train, y_train)\n",
        "\n",
        "    # Make predictions on the test data\n",
        "    y_pred = svm_classifier.predict(X_test)\n",
        "\n",
        "    # Evaluate the model's performance\n",
        "    accuracy = accuracy_score(y_test, y_pred)\n",
        "    report = classification_report(y_test, y_pred)\n",
        "\n",
        "    print(\"Accuracy:\", accuracy)\n",
        "    print(\"Classification Report:\\n\", report)\n",
        "    print(\"-\" * 50)  # Separating output for different SVM classifiers\n"
      ],
      "metadata": {
        "colab": {
          "base_uri": "https://localhost:8080/"
        },
        "id": "oP2WWepVd33G",
        "outputId": "5d86bf0e-3fc6-42ec-b1b5-bccc8c08c0ab"
      },
      "execution_count": null,
      "outputs": [
        {
          "output_type": "stream",
          "name": "stdout",
          "text": [
            "SVM Classifier (Kernel: rbf):\n",
            "Cross-validated accuracy scores: [0.96761134 0.96761134 0.98780488 0.97560976 0.95934959]\n",
            "Mean accuracy: 0.9715973799414106\n",
            "Accuracy: 0.9741100323624595\n",
            "Classification Report:\n",
            "               precision    recall  f1-score   support\n",
            "\n",
            "           0       0.99      0.96      0.98       194\n",
            "           1       0.94      0.99      0.97       115\n",
            "\n",
            "    accuracy                           0.97       309\n",
            "   macro avg       0.97      0.98      0.97       309\n",
            "weighted avg       0.98      0.97      0.97       309\n",
            "\n",
            "--------------------------------------------------\n"
          ]
        }
      ]
    },
    {
      "cell_type": "code",
      "source": [
        "# Create a confusion matrix\n",
        "confusion = confusion_matrix(y_test, y_pred)\n",
        "\n",
        "# Plot the confusion matrix as a heatmap\n",
        "plt.figure(figsize=(8, 6))\n",
        "sns.heatmap(confusion, annot=True, fmt=\"d\", cmap=\"Blues\",\n",
        "            xticklabels=svm_classifier.classes_,\n",
        "            yticklabels=svm_classifier.classes_)\n",
        "plt.xlabel('Predicted')\n",
        "plt.ylabel('True')\n",
        "plt.title('Confusion Matrix')\n",
        "plt.show()\n",
        "\n",
        "\n",
        "\n",
        "\n"
      ],
      "metadata": {
        "colab": {
          "base_uri": "https://localhost:8080/",
          "height": 564
        },
        "id": "2tZMZNIDFFL0",
        "outputId": "2f89fc23-15b9-4ae2-f097-29e6a5bc2669"
      },
      "execution_count": null,
      "outputs": [
        {
          "output_type": "display_data",
          "data": {
            "text/plain": [
              "<Figure size 800x600 with 2 Axes>"
            ],
            "image/png": "[encoded data removed]"
          },
          "metadata": {}
        }
      ]
    },
    {
      "cell_type": "code",
      "source": [
        "# Compute ROC curve\n",
        "fpr, tpr, thresholds = roc_curve(y_test, y_pred)\n",
        "\n",
        "# Calculate the Area Under the Curve (AUC)\n",
        "roc_auc = auc(fpr, tpr)\n",
        "\n",
        "# Plot the ROC curve\n",
        "plt.figure(figsize=(6, 4))\n",
        "plt.plot(fpr, tpr, color='darkorange', lw=2, label='ROC curve (area = %0.2f)' % roc_auc)\n",
        "plt.plot([0, 1], [0, 1], color='navy', lw=2, linestyle='--')\n",
        "plt.xlim([0.0, 1.0])\n",
        "plt.ylim([0.0, 1.05])\n",
        "plt.xlabel('False Positive Rate')\n",
        "plt.ylabel('True Positive Rate')\n",
        "plt.title('Receiver Operating Characteristic (ROC)')\n",
        "plt.legend(loc=\"lower right\")\n",
        "\n",
        "# Add grid lines\n",
        "plt.grid()\n",
        "\n",
        "plt.show()"
      ],
      "metadata": {
        "colab": {
          "base_uri": "https://localhost:8080/",
          "height": 410
        },
        "id": "wi0TWRJ4FFVs",
        "outputId": "c18b5e85-24be-46f6-d0e3-bf631fe312c0"
      },
      "execution_count": null,
      "outputs": [
        {
          "output_type": "display_data",
          "data": {
            "text/plain": [
              "<Figure size 600x400 with 1 Axes>"
            ],
            "image/png": "[encoded data removed]"
          },
          "metadata": {}
        }
      ]
    },
    {
      "cell_type": "code",
      "source": [
        "from keras.models import Sequential\n",
        "from keras.layers import Dense\n",
        "\n",
        "# Building ANN model\n",
        "model = Sequential()\n",
        "model.add(Dense(128, input_shape=(X_combined.shape[1],), activation='relu'))\n",
        "model.add(Dense(64, activation='relu'))\n",
        "model.add(Dense(1, activation='sigmoid'))\n",
        "\n",
        "model.compile(optimizer='adam', loss='binary_crossentropy', metrics=['accuracy'])\n",
        "\n",
        "# Train the model\n",
        "model.fit(X_train, y_train, epochs=5, batch_size=10, validation_data=(X_test, y_test))\n",
        "\n",
        "# Evaluate the model\n",
        "accuracy = model.evaluate(X_test, y_test)[1]\n",
        "print(\"Test Accuracy:\", accuracy)"
      ],
      "metadata": {
        "colab": {
          "base_uri": "https://localhost:8080/"
        },
        "id": "7iRrAevvx7ax",
        "outputId": "a1d33b38-a805-4405-bf0e-9ee63a747cdd"
      },
      "execution_count": null,
      "outputs": [
        {
          "output_type": "stream",
          "name": "stdout",
          "text": [
            "Epoch 1/5\n",
            "124/124 [==============================] - 4s 5ms/step - loss: 0.1817 - accuracy: 0.9489 - val_loss: 0.0625 - val_accuracy: 0.9741\n",
            "Epoch 2/5\n",
            "124/124 [==============================] - 0s 4ms/step - loss: 0.0441 - accuracy: 0.9797 - val_loss: 0.0522 - val_accuracy: 0.9773\n",
            "Epoch 3/5\n",
            "124/124 [==============================] - 0s 4ms/step - loss: 0.0200 - accuracy: 0.9943 - val_loss: 0.0296 - val_accuracy: 0.9968\n",
            "Epoch 4/5\n",
            "124/124 [==============================] - 0s 4ms/step - loss: 0.0079 - accuracy: 0.9984 - val_loss: 0.0267 - val_accuracy: 0.9968\n",
            "Epoch 5/5\n",
            "124/124 [==============================] - 0s 4ms/step - loss: 0.0033 - accuracy: 1.0000 - val_loss: 0.0231 - val_accuracy: 0.9935\n",
            "10/10 [==============================] - 0s 3ms/step - loss: 0.0231 - accuracy: 0.9935\n",
            "Test Accuracy: 0.9935275316238403\n"
          ]
        }
      ]
    },
    {
      "cell_type": "code",
      "source": [
        "from sklearn.metrics import confusion_matrix\n",
        "import seaborn as sns\n",
        "import matplotlib.pyplot as plt\n",
        "\n",
        "# Create a confusion matrix\n",
        "cm = confusion_matrix(y_test, y_pred)\n",
        "\n",
        "# Plot the confusion matrix as a heatmap\n",
        "plt.figure(figsize=(4,3))\n",
        "sns.heatmap(cm, annot=True, fmt=\"d\", cmap=\"Blues\", xticklabels=[\"Healthy\", \"Dementia\"], yticklabels=[\"Healthy\", \"Dementia\"])\n",
        "plt.xlabel(\"Predicted Labels\")\n",
        "plt.ylabel(\"True Labels\")\n",
        "plt.title(\"Confusion Matrix\")\n",
        "plt.show()"
      ],
      "metadata": {
        "colab": {
          "base_uri": "https://localhost:8080/",
          "height": 333
        },
        "id": "xntG8875Z2Tz",
        "outputId": "7452310e-8581-47d3-c41c-8b65d67e252c"
      },
      "execution_count": null,
      "outputs": [
        {
          "output_type": "display_data",
          "data": {
            "text/plain": [
              "<Figure size 400x300 with 2 Axes>"
            ],
            "image/png": "[encoded data removed]"
          },
          "metadata": {}
        }
      ]
    },
    {
      "cell_type": "code",
      "source": [
        "from sklearn.metrics import roc_curve, roc_auc_score\n",
        "import matplotlib.pyplot as plt\n",
        "\n",
        "# Calculate ROC curve and ROC AUC score\n",
        "roc_auc = roc_auc_score(y_test, y_pred)  # y_pred_proba: predicted probabilities\n",
        "\n",
        "# Get false positive rate, true positive rate, and thresholds\n",
        "fpr, tpr, thresholds = roc_curve(y_test, y_pred)\n",
        "\n",
        "# Plot ROC curve\n",
        "plt.figure(figsize=(6,4))\n",
        "plt.plot(fpr, tpr, color='red', lw=2, label='ROC curve (area = %0.2f)' % roc_auc)\n",
        "plt.plot([0, 1], [0, 1], color='black', linestyle='--')\n",
        "plt.xlim([0.0, 1.0])\n",
        "plt.ylim([0.0, 1.05])\n",
        "plt.xlabel('False Positive Rate')\n",
        "plt.ylabel('True Positive Rate')\n",
        "plt.title('Receiver Operating Characteristic (ROC)')\n",
        "plt.legend(loc=\"lower right\")\n",
        "# Add grid lines\n",
        "plt.grid()\n",
        "plt.show()"
      ],
      "metadata": {
        "id": "THUr2UplnlL3",
        "colab": {
          "base_uri": "https://localhost:8080/",
          "height": 410
        },
        "outputId": "5f62c8d4-624e-4d92-b526-076529e943bf"
      },
      "execution_count": null,
      "outputs": [
        {
          "output_type": "display_data",
          "data": {
            "text/plain": [
              "<Figure size 600x400 with 1 Axes>"
            ],
            "image/png": "[encoded data removed]"
          },
          "metadata": {}
        }
      ]
    },
    {
      "cell_type": "code",
      "source": [
        "#K-NN\n",
        "\n",
        "from sklearn.neighbors import KNeighborsClassifier\n",
        "from sklearn.model_selection import cross_val_score\n",
        "\n",
        "# Create the KNN model\n",
        "knn_model = KNeighborsClassifier(n_neighbors=5)  # You can adjust the number of neighbors\n",
        "\n",
        "# Perform cross-validation and get the accuracy scores for each fold\n",
        "cv_scores = cross_val_score(knn_model, X_train, y_train, cv=5)  # 5-fold cross-validation\n",
        "\n",
        "# Print the accuracy scores for each fold\n",
        "print(\"Cross-Validation Scores:\", cv_scores)\n",
        "print(\"Mean Accuracy:\", cv_scores.mean())\n",
        "\n",
        "# Now, let's fit the model to the entire training set\n",
        "knn_model.fit(X_train, y_train)\n",
        "\n",
        "# Make predictions on the test set\n",
        "y_pred = knn_model.predict(X_test)\n",
        "\n",
        "# Evaluate the model's performance\n",
        "accuracy = accuracy_score(y_test, y_pred)\n",
        "report = classification_report(y_test, y_pred)\n",
        "\n",
        "# Print the results\n",
        "print(\"K-Nearest Neighbors (KNN) Results:\")\n",
        "print(\"Accuracy:\", accuracy)\n",
        "print(\"Classification Report:\\n\", report)"
      ],
      "metadata": {
        "colab": {
          "base_uri": "https://localhost:8080/"
        },
        "id": "SuOqcB1oBYBH",
        "outputId": "4a6d7037-9387-4f75-8379-232345638f03"
      },
      "execution_count": null,
      "outputs": [
        {
          "output_type": "stream",
          "name": "stdout",
          "text": [
            "Cross-Validation Scores: [0.98380567 0.98380567 0.99593496 0.99186992 0.98780488]\n",
            "Mean Accuracy: 0.9886442184259898\n",
            "K-Nearest Neighbors (KNN) Results:\n",
            "Accuracy: 0.9870550161812298\n",
            "Classification Report:\n",
            "               precision    recall  f1-score   support\n",
            "\n",
            "           0       0.99      0.98      0.99       194\n",
            "           1       0.97      0.99      0.98       115\n",
            "\n",
            "    accuracy                           0.99       309\n",
            "   macro avg       0.98      0.99      0.99       309\n",
            "weighted avg       0.99      0.99      0.99       309\n",
            "\n"
          ]
        }
      ]
    },
    {
      "cell_type": "code",
      "source": [
        "# Plot the confusion matrix as a heatmap\n",
        "plt.figure(figsize=(8, 6))\n",
        "sns.heatmap(confusion, annot=True, fmt=\"d\", cmap=\"Blues\",\n",
        "            xticklabels=knn_model.classes_,\n",
        "            yticklabels=knn_model.classes_)\n",
        "plt.xlabel('Predicted')\n",
        "plt.ylabel('True')\n",
        "plt.title('Confusion Matrix')\n",
        "plt.show()"
      ],
      "metadata": {
        "id": "OE9RpRrUDwgQ",
        "colab": {
          "base_uri": "https://localhost:8080/",
          "height": 564
        },
        "outputId": "a56f40be-13b3-4acc-99f7-590f0500a384"
      },
      "execution_count": null,
      "outputs": [
        {
          "output_type": "display_data",
          "data": {
            "text/plain": [
              "<Figure size 800x600 with 2 Axes>"
            ],
            "image/png": "[encoded data removed]"
          },
          "metadata": {}
        }
      ]
    },
    {
      "cell_type": "code",
      "source": [
        "# Compute ROC curve\n",
        "fpr, tpr, thresholds = roc_curve(y_test, y_pred)\n",
        "\n",
        "# Calculate the Area Under the Curve (AUC)\n",
        "roc_auc = auc(fpr, tpr)\n",
        "\n",
        "# Plot the ROC curve\n",
        "plt.figure(figsize=(6, 4))\n",
        "plt.plot(fpr, tpr, color='darkorange', lw=2, label='ROC curve (area = %0.2f)' % roc_auc)\n",
        "plt.plot([0, 1], [0, 1], color='navy', lw=2, linestyle='--')\n",
        "plt.xlim([0.0, 1.0])\n",
        "plt.ylim([0.0, 1.05])\n",
        "plt.xlabel('False Positive Rate')\n",
        "plt.ylabel('True Positive Rate')\n",
        "plt.title('Receiver Operating Characteristic (ROC)')\n",
        "plt.legend(loc=\"lower right\")\n",
        "\n",
        "# Add grid lines\n",
        "plt.grid()\n",
        "plt.show()"
      ],
      "metadata": {
        "colab": {
          "base_uri": "https://localhost:8080/",
          "height": 410
        },
        "id": "ghonv1xwPaF_",
        "outputId": "897508ba-5a34-4db6-e27c-7909df46b60b"
      },
      "execution_count": null,
      "outputs": [
        {
          "output_type": "display_data",
          "data": {
            "text/plain": [
              "<Figure size 600x400 with 1 Axes>"
            ],
            "image/png": "[encoded data removed]"
          },
          "metadata": {}
        }
      ]
    },
    {
      "cell_type": "code",
      "source": [
        "# Create a list of classifiers\n",
        "classifiers = [\n",
        "    (\"Random Forest\", RandomForestClassifier(class_weight='balanced', random_state=42)),\n",
        "    (\"SVM\", SVC(kernel='rbf', class_weight='balanced', random_state=42)),\n",
        "    (\"K-Nearest Neighbors (KNN)\", KNeighborsClassifier(n_neighbors=5)),\n",
        "]\n",
        "\n",
        "# Create a list of unique colors for bars\n",
        "colors = ['skyblue', 'lightcoral', 'lightgreen', 'pink']\n",
        "\n",
        "\n",
        "\n",
        "# Create empty lists to store classifier names and accuracies\n",
        "classifier_names = []\n",
        "accuracies = []\n",
        "\n",
        "# Perform cross-validation for each classifier and store accuracy scores\n",
        "for name, classifier in classifiers:\n",
        "    cv_scores = cross_val_score(classifier, X_train, y_train, cv=5)\n",
        "    mean_accuracy = cv_scores.mean()\n",
        "\n",
        "    classifier_names.append(name)\n",
        "    accuracies.append(mean_accuracy)\n",
        "\n",
        "\n",
        "# Append ANN classifier name and accuracy to the lists\n",
        "classifier_names.append(\"ANN\")\n",
        "accuracies.append(accuracy)\n",
        "\n",
        "# Create a horizontal bar chart to visualize accuracies with different colors\n",
        "plt.figure(figsize=(8, 4))\n",
        "bars = plt.barh(classifier_names, accuracies, color=colors)\n",
        "# Set the x-axis label to 'Mean Accuracy' and customize the y-axis label\n",
        "plt.xlabel('Mean Accuracy', fontsize=12)\n",
        "plt.ylabel('Classifier', fontsize=12)\n",
        "\n",
        "# Set the title and adjust the font size\n",
        "plt.title('Classifier Mean Accuracy Comparison', fontsize=14)\n",
        "\n",
        "# Set the x-axis limit to match the accuracy range (0-1)\n",
        "plt.xlim(0, 1)\n",
        "\n",
        "# Invert the y-axis to display the highest accuracy at the top\n",
        "plt.gca().invert_yaxis()\n",
        "\n",
        "# Add text labels for each bar\n",
        "for bar, accuracy in zip(bars, accuracies):\n",
        "    plt.text(accuracy + 0.01, bar.get_y() + bar.get_height() / 2, f'{accuracy:.2f}', va='center', fontsize=10)\n",
        "\n",
        "# Display the plot\n",
        "plt.show()"
      ],
      "metadata": {
        "colab": {
          "base_uri": "https://localhost:8080/",
          "height": 415
        },
        "id": "tigdQ2rLPqi8",
        "outputId": "b487617b-b78b-4838-f922-2d0ec4243c34"
      },
      "execution_count": null,
      "outputs": [
        {
          "output_type": "display_data",
          "data": {
            "text/plain": [
              "<Figure size 800x400 with 1 Axes>"
            ],
            "image/png": "[encoded data removed]"
          },
          "metadata": {}
        }
      ]
    },
    {
      "cell_type": "code",
      "source": [],
      "metadata": {
        "id": "a1JhGc7eLGin"
      },
      "execution_count": null,
      "outputs": []
    },
    {
      "cell_type": "code",
      "source": [],
      "metadata": {
        "id": "nBd7mBIKG_CX"
      },
      "execution_count": null,
      "outputs": []
    },
    {
      "cell_type": "code",
      "source": [],
      "metadata": {
        "id": "SXhR94lOG_Gg"
      },
      "execution_count": null,
      "outputs": []
    },
    {
      "cell_type": "code",
      "source": [],
      "metadata": {
        "id": "dNDPk0AGnlSf"
      },
      "execution_count": null,
      "outputs": []
    },
    {
      "cell_type": "code",
      "source": [],
      "metadata": {
        "id": "c7-BsZ7yw1KA"
      },
      "execution_count": null,
      "outputs": []
    },
    {
      "cell_type": "code",
      "source": [],
      "metadata": {
        "id": "W3rXwdOjw1NP"
      },
      "execution_count": null,
      "outputs": []
    },
    {
      "cell_type": "code",
      "source": [],
      "metadata": {
        "id": "_Tmhrxch7hTx"
      },
      "execution_count": null,
      "outputs": []
    }
  ]
}